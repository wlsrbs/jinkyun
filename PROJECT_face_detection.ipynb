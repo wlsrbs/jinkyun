{
 "cells": [
  {
   "attachments": {},
   "cell_type": "markdown",
   "metadata": {},
   "source": [
    "-----"
   ]
  },
  {
   "cell_type": "code",
   "execution_count": 1,
   "metadata": {},
   "outputs": [],
   "source": [
    "from deepface import DeepFace\n",
    "from deepface.basemodels import VGGFace, OpenFace, Facenet, FbDeepFace\n",
    "import matplotlib.pyplot as plt\n",
    "import numpy as np\n",
    "import cv2\n",
    "import os\n",
    "import glob\n",
    "import time\n",
    "# from numba import cuda"
   ]
  },
  {
   "cell_type": "code",
   "execution_count": 2,
   "metadata": {},
   "outputs": [],
   "source": [
    "webcam = cv2.VideoCapture(0)\n",
    "if not webcam.isOpened():\n",
    "    print('Could not open Webcam')\n",
    "    exit()\n",
    "\n",
    "while webcam.isOpened():\n",
    "    status, frame = webcam.read()\n",
    "    if status:\n",
    "        cv2.imwrite(filename=('C:/face_detection/test.jpg'),img=frame)\n",
    "        break\n",
    "webcam.release()\n",
    "cv2.destroyAllWindows()"
   ]
  },
  {
   "cell_type": "code",
   "execution_count": 4,
   "metadata": {},
   "outputs": [
    {
     "name": "stdout",
     "output_type": "stream",
     "text": [
      "facial_expression_model_weights.h5 will be downloaded...\n"
     ]
    },
    {
     "name": "stderr",
     "output_type": "stream",
     "text": [
      "Downloading...\n",
      "From: https://github.com/serengil/deepface_models/releases/download/v1.0/facial_expression_model_weights.h5\n",
      "To: C:\\Users\\jinky\\.deepface\\weights\\facial_expression_model_weights.h5\n",
      "100%|██████████| 5.98M/5.98M [00:00<00:00, 6.04MB/s]\n"
     ]
    },
    {
     "name": "stdout",
     "output_type": "stream",
     "text": [
      "age_model_weights.h5 will be downloaded...\n"
     ]
    },
    {
     "name": "stderr",
     "output_type": "stream",
     "text": [
      "Downloading...\n",
      "From: https://github.com/serengil/deepface_models/releases/download/v1.0/age_model_weights.h5\n",
      "To: C:\\Users\\jinky\\.deepface\\weights\\age_model_weights.h5\n",
      "100%|██████████| 539M/539M [00:48<00:00, 11.1MB/s] \n"
     ]
    },
    {
     "name": "stdout",
     "output_type": "stream",
     "text": [
      "gender_model_weights.h5 will be downloaded...\n"
     ]
    },
    {
     "name": "stderr",
     "output_type": "stream",
     "text": [
      "Downloading...\n",
      "From: https://github.com/serengil/deepface_models/releases/download/v1.0/gender_model_weights.h5\n",
      "To: C:\\Users\\jinky\\.deepface\\weights\\gender_model_weights.h5\n",
      "100%|██████████| 537M/537M [01:09<00:00, 7.74MB/s] \n"
     ]
    },
    {
     "name": "stdout",
     "output_type": "stream",
     "text": [
      "race_model_single_batch.h5 will be downloaded...\n"
     ]
    },
    {
     "name": "stderr",
     "output_type": "stream",
     "text": [
      "Downloading...\n",
      "From: https://github.com/serengil/deepface_models/releases/download/v1.0/race_model_single_batch.h5\n",
      "To: C:\\Users\\jinky\\.deepface\\weights\\race_model_single_batch.h5\n",
      "100%|██████████| 537M/537M [00:54<00:00, 9.89MB/s] \n",
      "Action: emotion: 100%|██████████| 4/4 [00:00<00:00,  4.61it/s]"
     ]
    },
    {
     "name": "stdout",
     "output_type": "stream",
     "text": [
      "28\n"
     ]
    },
    {
     "name": "stderr",
     "output_type": "stream",
     "text": [
      "\n"
     ]
    }
   ],
   "source": [
    "from deepface import DeepFace\n",
    "from deepface.basemodels import VGGFace, OpenFace, Facenet, FbDeepFace\n",
    "import cv2, glob, dlib\n",
    "import json\n",
    "\n",
    "# img = cv2.imread(img_path)\n",
    "result = DeepFace.analyze('C:/face_detection/test.jpg', actions = ['age', 'gender', 'race', 'emotion'])\n",
    "print(result[0]['age'])\n",
    "\n",
    "\n",
    "gender  = result[0]['dominant_gender']\n",
    "age = result[0]['age']\n",
    "emotion = result[0]['dominant_emotion']\n",
    "race = result[0]['dominant_race']\n",
    "x1 = result[0]['region']['x']\n",
    "y1 = result[0]['region']['y']\n",
    "\n",
    "# overlay_text = '%s %s %s %s' % (gender, age, emotion, race)\n",
    "# cv2.putText(img, overlay_text, org=(x1, y1), fontFace=cv2.FONT_HERSHEY_SIMPLEX,\n",
    "#     fontScale=1, color=(0,0,0), thickness=10)\n",
    "# cv2.putText(img, overlay_text, org=(x1, y1),\n",
    "#     fontFace=cv2.FONT_HERSHEY_SIMPLEX, fontScale=1, color=(255,255,255), thickness=2)\n",
    "# cv2.imshow('img', img)\n",
    "# cv2.imwrite('result/%s' % img_path.split('/')[-1], img)\n",
    "# key = cv2.waitKey(0) & 0xFF\n",
    "# if key == ord('q'):\n",
    "#     cv2.destroyAllWindows()"
   ]
  },
  {
   "cell_type": "code",
   "execution_count": 5,
   "metadata": {},
   "outputs": [
    {
     "data": {
      "text/plain": [
       "'Man'"
      ]
     },
     "execution_count": 5,
     "metadata": {},
     "output_type": "execute_result"
    }
   ],
   "source": [
    "gender"
   ]
  },
  {
   "cell_type": "code",
   "execution_count": 6,
   "metadata": {},
   "outputs": [
    {
     "data": {
      "text/plain": [
       "28"
      ]
     },
     "execution_count": 6,
     "metadata": {},
     "output_type": "execute_result"
    }
   ],
   "source": [
    "age"
   ]
  },
  {
   "cell_type": "code",
   "execution_count": 7,
   "metadata": {},
   "outputs": [
    {
     "data": {
      "text/plain": [
       "'angry'"
      ]
     },
     "execution_count": 7,
     "metadata": {},
     "output_type": "execute_result"
    }
   ],
   "source": [
    "emotion"
   ]
  },
  {
   "cell_type": "code",
   "execution_count": 8,
   "metadata": {},
   "outputs": [
    {
     "data": {
      "text/plain": [
       "'asian'"
      ]
     },
     "execution_count": 8,
     "metadata": {},
     "output_type": "execute_result"
    }
   ],
   "source": [
    "race"
   ]
  },
  {
   "cell_type": "code",
   "execution_count": 8,
   "metadata": {},
   "outputs": [
    {
     "name": "stdout",
     "output_type": "stream",
     "text": [
      "Requirement already satisfied: spotipy in c:\\users\\user\\anaconda3\\envs\\jindoll\\lib\\site-packages (2.23.0)\n",
      "Requirement already satisfied: urllib3>=1.26.0 in c:\\users\\user\\anaconda3\\envs\\jindoll\\lib\\site-packages (from spotipy) (1.26.16)\n",
      "Requirement already satisfied: six>=1.15.0 in c:\\users\\user\\anaconda3\\envs\\jindoll\\lib\\site-packages (from spotipy) (1.16.0)\n",
      "Requirement already satisfied: redis>=3.5.3 in c:\\users\\user\\anaconda3\\envs\\jindoll\\lib\\site-packages (from spotipy) (4.6.0)\n",
      "Requirement already satisfied: requests>=2.25.0 in c:\\users\\user\\anaconda3\\envs\\jindoll\\lib\\site-packages (from spotipy) (2.31.0)\n",
      "Requirement already satisfied: async-timeout>=4.0.2 in c:\\users\\user\\anaconda3\\envs\\jindoll\\lib\\site-packages (from redis>=3.5.3->spotipy) (4.0.2)\n",
      "Requirement already satisfied: idna<4,>=2.5 in c:\\users\\user\\anaconda3\\envs\\jindoll\\lib\\site-packages (from requests>=2.25.0->spotipy) (3.4)\n",
      "Requirement already satisfied: certifi>=2017.4.17 in c:\\users\\user\\anaconda3\\envs\\jindoll\\lib\\site-packages (from requests>=2.25.0->spotipy) (2023.5.7)\n",
      "Requirement already satisfied: charset-normalizer<4,>=2 in c:\\users\\user\\anaconda3\\envs\\jindoll\\lib\\site-packages (from requests>=2.25.0->spotipy) (3.1.0)\n"
     ]
    }
   ],
   "source": [
    "# !pip install spotipy"
   ]
  },
  {
   "cell_type": "code",
   "execution_count": 9,
   "metadata": {},
   "outputs": [
    {
     "name": "stdout",
     "output_type": "stream",
     "text": [
      "1. Lola Blanc - Angry Too\n",
      "2. Ghxust - #Angry\n",
      "3. Megadeth - Angry Again\n",
      "4. beabadoobee - Angry Song\n",
      "5. Paravi - Angry\n",
      "6. Alice In Chains - Angry Chair (2022 Remaster)\n",
      "7. bôa - Angry\n",
      "8. RXDXVIL - ANGRY BIRDS PHONK\n",
      "9. Ari Pulkkinen - Angry Birds Theme\n",
      "10. Mars Argo - Angry\n"
     ]
    }
   ],
   "source": [
    "# 감정 관련된 노래를 추출하려 했으나, 100% 문자에 관련된 노래제목 및 아티스트가 나옴\n",
    "import spotipy\n",
    "from spotipy.oauth2 import SpotifyClientCredentials\n",
    "\n",
    "def search_songs(query):\n",
    "    client_credentials_manager = SpotifyClientCredentials(client_id='c57c235156ca4b689edccb038505fb58', client_secret='d3a646e310ec4184ac9f9a827f7e3ab8')\n",
    "    sp = spotipy.Spotify(client_credentials_manager=client_credentials_manager)\n",
    "\n",
    "    result = sp.search(query, type='track', limit=10)\n",
    "    tracks = result['tracks']['items']\n",
    "\n",
    "    for i, track in enumerate(tracks, start=1):\n",
    "        artists = ', '.join([artist['name'] for artist in track['artists']])\n",
    "        print(f\"{i}. {artists} - {track['name']}\")\n",
    "\n",
    "query = \"#angry\"\n",
    "search_songs(query)\n"
   ]
  },
  {
   "cell_type": "code",
   "execution_count": 10,
   "metadata": {},
   "outputs": [
    {
     "name": "stdout",
     "output_type": "stream",
     "text": [
      "Supported Genres:\n",
      "acoustic\n",
      "afrobeat\n",
      "alt-rock\n",
      "alternative\n",
      "ambient\n",
      "anime\n",
      "black-metal\n",
      "bluegrass\n",
      "blues\n",
      "bossanova\n",
      "brazil\n",
      "breakbeat\n",
      "british\n",
      "cantopop\n",
      "chicago-house\n",
      "children\n",
      "chill\n",
      "classical\n",
      "club\n",
      "comedy\n",
      "country\n",
      "dance\n",
      "dancehall\n",
      "death-metal\n",
      "deep-house\n",
      "detroit-techno\n",
      "disco\n",
      "disney\n",
      "drum-and-bass\n",
      "dub\n",
      "dubstep\n",
      "edm\n",
      "electro\n",
      "electronic\n",
      "emo\n",
      "folk\n",
      "forro\n",
      "french\n",
      "funk\n",
      "garage\n",
      "german\n",
      "gospel\n",
      "goth\n",
      "grindcore\n",
      "groove\n",
      "grunge\n",
      "guitar\n",
      "happy\n",
      "hard-rock\n",
      "hardcore\n",
      "hardstyle\n",
      "heavy-metal\n",
      "hip-hop\n",
      "holidays\n",
      "honky-tonk\n",
      "house\n",
      "idm\n",
      "indian\n",
      "indie\n",
      "indie-pop\n",
      "industrial\n",
      "iranian\n",
      "j-dance\n",
      "j-idol\n",
      "j-pop\n",
      "j-rock\n",
      "jazz\n",
      "k-pop\n",
      "kids\n",
      "latin\n",
      "latino\n",
      "malay\n",
      "mandopop\n",
      "metal\n",
      "metal-misc\n",
      "metalcore\n",
      "minimal-techno\n",
      "movies\n",
      "mpb\n",
      "new-age\n",
      "new-release\n",
      "opera\n",
      "pagode\n",
      "party\n",
      "philippines-opm\n",
      "piano\n",
      "pop\n",
      "pop-film\n",
      "post-dubstep\n",
      "power-pop\n",
      "progressive-house\n",
      "psych-rock\n",
      "punk\n",
      "punk-rock\n",
      "r-n-b\n",
      "rainy-day\n",
      "reggae\n",
      "reggaeton\n",
      "road-trip\n",
      "rock\n",
      "rock-n-roll\n",
      "rockabilly\n",
      "romance\n",
      "sad\n",
      "salsa\n",
      "samba\n",
      "sertanejo\n",
      "show-tunes\n",
      "singer-songwriter\n",
      "ska\n",
      "sleep\n",
      "songwriter\n",
      "soul\n",
      "soundtracks\n",
      "spanish\n",
      "study\n",
      "summer\n",
      "swedish\n",
      "synth-pop\n",
      "tango\n",
      "techno\n",
      "trance\n",
      "trip-hop\n",
      "turkish\n",
      "work-out\n",
      "world-music\n"
     ]
    }
   ],
   "source": [
    "# 장르 종류\n",
    "import spotipy\n",
    "from spotipy.oauth2 import SpotifyClientCredentials\n",
    "\n",
    "def get_supported_genres():\n",
    "    client_credentials_manager = SpotifyClientCredentials(client_id='c57c235156ca4b689edccb038505fb58', client_secret='d3a646e310ec4184ac9f9a827f7e3ab8')\n",
    "    sp = spotipy.Spotify(client_credentials_manager=client_credentials_manager)\n",
    "\n",
    "    # Spotify에서 지원하는 장르 목록을 가져옴\n",
    "    genres = sp.recommendation_genre_seeds()\n",
    "\n",
    "    # 장르 목록 출력\n",
    "    print(\"Supported Genres:\")\n",
    "    for genre in genres['genres']:\n",
    "        print(genre)\n",
    "\n",
    "# 지원되는 장르 목록 가져오기\n",
    "get_supported_genres()\n"
   ]
  },
  {
   "cell_type": "code",
   "execution_count": 11,
   "metadata": {},
   "outputs": [],
   "source": [
    "emotion_dic = {'angry':'rock', 'disgust' : 'k-pop', 'fear' : 'edm', 'happy' : 'j-pop', 'sad' : 'sad', 'surprise': 'soul', 'neutral' : 'r-n-b'}"
   ]
  },
  {
   "cell_type": "code",
   "execution_count": 12,
   "metadata": {},
   "outputs": [],
   "source": [
    "import spotipy\n",
    "from spotipy.oauth2 import SpotifyClientCredentials\n",
    "\n",
    "def recommend_tracks_by_genre(genre):\n",
    "    song_list = []\n",
    "    client_credentials_manager = SpotifyClientCredentials(client_id='c57c235156ca4b689edccb038505fb58', client_secret='d3a646e310ec4184ac9f9a827f7e3ab8')\n",
    "    sp = spotipy.Spotify(client_credentials_manager=client_credentials_manager)\n",
    "\n",
    "    # 장르를 기반으로 노래 추천 요청\n",
    "    recommendations = sp.recommendations(seed_genres=[genre], limit=10)\n",
    "    tracks = recommendations['tracks']\n",
    "\n",
    "    # 추천된 노래 출력\n",
    "    for i, track in enumerate(tracks, start=1):\n",
    "        artists = ', '.join([artist['name'] for artist in track['artists']])\n",
    "        song_list.append(f\"{artists} - {track['name']}\")\n",
    "    return song_list\n",
    "# 원하는 장르 입력\n",
    "genre = emotion_dic[f'{emotion}']\n",
    "song_list = recommend_tracks_by_genre(genre)"
   ]
  },
  {
   "cell_type": "code",
   "execution_count": 13,
   "metadata": {},
   "outputs": [],
   "source": [
    "import random\n",
    "song = song_list[random.randint(0,10)]"
   ]
  },
  {
   "attachments": {},
   "cell_type": "markdown",
   "metadata": {},
   "source": [
    "------"
   ]
  },
  {
   "cell_type": "code",
   "execution_count": 21,
   "metadata": {},
   "outputs": [
    {
     "name": "stderr",
     "output_type": "stream",
     "text": [
      "Action: emotion: 100%|██████████| 4/4 [00:00<00:00,  7.51it/s]\n"
     ]
    },
    {
     "name": "stdout",
     "output_type": "stream",
     "text": [
      "27\n"
     ]
    }
   ],
   "source": [
    "from deepface import DeepFace\n",
    "from deepface.basemodels import VGGFace, OpenFace, Facenet, FbDeepFace\n",
    "import matplotlib.pyplot as plt\n",
    "import numpy as np\n",
    "import cv2\n",
    "import os\n",
    "import glob\n",
    "import spotipy\n",
    "from spotipy.oauth2 import SpotifyClientCredentials\n",
    "from selenium import webdriver #브라우저를 띄우고 컨트롤하기 위한 webdriver\n",
    "from selenium.webdriver.common.by import By #webdriver를 이용해 태그를 찾기 위함\n",
    "import time\n",
    "from selenium import webdriver\n",
    "from selenium.webdriver.chrome.service import Service\n",
    "from webdriver_manager.chrome import ChromeDriverManager\n",
    "from selenium.webdriver.support.ui import WebDriverWait\n",
    "from selenium.webdriver.support import expected_conditions as EC\n",
    "from selenium.webdriver.common.keys import Keys # <--- 대문자 Keys\n",
    "from selenium.webdriver.chrome.options import Options\n",
    "\n",
    "# 웹캠으로 사진 찍고 저장하기\n",
    "#-----------------------------------#\n",
    "webcam = cv2.VideoCapture(0)\n",
    "if not webcam.isOpened():\n",
    "    print('Could not open Webcam')\n",
    "    exit()\n",
    "\n",
    "while webcam.isOpened():\n",
    "    status, frame = webcam.read()\n",
    "    if status:\n",
    "        cv2.imwrite(filename=('C:/face_detection/test.jpg'),img=frame)\n",
    "        break\n",
    "webcam.release()\n",
    "cv2.destroyAllWindows()\n",
    "\n",
    "# 웹캠으로 찍은사진을 감정 분석 하기\n",
    "#-----------------------------------#\n",
    "result = DeepFace.analyze('C:/face_detection/test.jpg', actions = ['age', 'gender', 'race', 'emotion'])\n",
    "print(result[0]['age'])\n",
    "\n",
    "\n",
    "gender  = result[0]['dominant_gender']\n",
    "age = result[0]['age']\n",
    "emotion = result[0]['dominant_emotion']\n",
    "race = result[0]['dominant_race']\n",
    "x1 = result[0]['region']['x']\n",
    "y1 = result[0]['region']['y']\n",
    "\n",
    "# 감정분석 결과를 바탕으로 spotify에서 음악 검색후 추천하는 음악 가져오기\n",
    "#-----------------------------------#\n",
    "emotion_dic = {'angry':'rock', 'disgust' : 'k-pop', 'fear' : 'edm', 'happy' : 'j-pop', 'sad' : 'sad', 'surprise': 'soul', 'neutral' : 'r-n-b'}\n",
    "\n",
    "def recommend_tracks_by_genre(genre):\n",
    "    song_list = []\n",
    "    client_credentials_manager = SpotifyClientCredentials(client_id='c57c235156ca4b689edccb038505fb58', client_secret='d3a646e310ec4184ac9f9a827f7e3ab8')\n",
    "    sp = spotipy.Spotify(client_credentials_manager=client_credentials_manager)\n",
    "\n",
    "    # 장르를 기반으로 노래 추천 요청\n",
    "    recommendations = sp.recommendations(seed_genres=[genre], limit=10)\n",
    "    tracks = recommendations['tracks']\n",
    "\n",
    "    # 추천된 노래 출력\n",
    "    for i, track in enumerate(tracks, start=1):\n",
    "        artists = ', '.join([artist['name'] for artist in track['artists']])\n",
    "        song_list.append(f\"{artists}-{track['name']}\")\n",
    "    return song_list\n",
    "\n",
    "# 원하는 장르 입력\n",
    "genre = emotion_dic[f'{emotion}']\n",
    "song_list = recommend_tracks_by_genre(genre)\n",
    "\n",
    "import random\n",
    "\n",
    "song = song_list[random.randint(0,10)]\n",
    "\n",
    "# 추천된 음악을 셀레니움으로 크롬을 킨후 벅스뮤직에서 음악 재생\n",
    "#-----------------------------------#\n",
    "\n",
    "\n",
    "chrome_options = Options()\n",
    "chrome_options.add_argument('--headless')  # 헤드리스 모드 설정\n",
    "\n",
    "service = Service(executable_path=ChromeDriverManager().install())  \n",
    "driver = webdriver.Chrome(service=service, options=chrome_options)                              \n",
    "driver.get(f'https://music.bugs.co.kr/newPlayer')                       \n",
    "driver.implicitly_wait(time_to_wait=10)                                \n",
    "                                                                            \n",
    "a = driver.find_element(By.CSS_SELECTOR,\"#searchInputPlayer\")              \n",
    "a.click()\n",
    "a.send_keys(song)\n",
    "a.send_keys(Keys.RETURN)\n",
    "driver.implicitly_wait(time_to_wait=10)\n",
    "time.sleep(1)\n",
    "b= driver.find_element(By.CSS_SELECTOR,\" dl > dt > a\")\n",
    "b.click()\n",
    "time.sleep(20)\n",
    "\n",
    "driver.close() "
   ]
  }
 ],
 "metadata": {
  "kernelspec": {
   "display_name": "cuuda",
   "language": "python",
   "name": "python3"
  },
  "language_info": {
   "codemirror_mode": {
    "name": "ipython",
    "version": 3
   },
   "file_extension": ".py",
   "mimetype": "text/x-python",
   "name": "python",
   "nbconvert_exporter": "python",
   "pygments_lexer": "ipython3",
   "version": "3.9.16"
  },
  "orig_nbformat": 4
 },
 "nbformat": 4,
 "nbformat_minor": 2
}
