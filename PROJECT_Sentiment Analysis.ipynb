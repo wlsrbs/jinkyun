{
 "cells": [
  {
   "cell_type": "code",
   "execution_count": 4,
   "metadata": {},
   "outputs": [],
   "source": [
    "import pandas as pd \n",
    "import numpy as np \n",
    "\n",
    "with open('./data/stopwords-ko.txt', 'r') as s:\n",
    "    stopwords=  s.readlines()\n",
    "\n",
    "stopwords = [words.strip() for words in stopwords ]"
   ]
  },
  {
   "cell_type": "code",
   "execution_count": 5,
   "metadata": {},
   "outputs": [
    {
     "name": "stderr",
     "output_type": "stream",
     "text": [
      "C:\\Users\\USER\\AppData\\Local\\Temp\\ipykernel_22440\\3655601262.py:35: FutureWarning: The default value of regex will change from True to False in a future version.\n",
      "  df_train.document=  df_train.document.str.replace('[^가-힣]' , ' ')\n",
      "C:\\Users\\USER\\AppData\\Local\\Temp\\ipykernel_22440\\3655601262.py:36: FutureWarning: The default value of regex will change from True to False in a future version.\n",
      "  df_valid.document=  df_valid.document.str.replace('[^가-힣]' , ' ')\n",
      "C:\\Users\\USER\\AppData\\Local\\Temp\\ipykernel_22440\\3655601262.py:38: FutureWarning: The default value of regex will change from True to False in a future version.\n",
      "  df_train.document = df_train.document.str.replace('^ +', '')\n",
      "C:\\Users\\USER\\AppData\\Local\\Temp\\ipykernel_22440\\3655601262.py:39: FutureWarning: The default value of regex will change from True to False in a future version.\n",
      "  df_valid.document = df_valid.document.str.replace('^ +', '')\n"
     ]
    },
    {
     "name": "stdout",
     "output_type": "stream",
     "text": [
      "(395536, 3) (99378, 3)\n"
     ]
    }
   ],
   "source": [
    "import pickle\n",
    "import pandas as pd\n",
    "import numpy as np\n",
    "import matplotlib.pyplot as plt\n",
    "import re\n",
    "import urllib.request\n",
    "# from konlpy.tag import Okt\n",
    "from eunjeon import Mecab\n",
    "from tqdm import tqdm\n",
    "from tensorflow.keras.preprocessing.text import Tokenizer\n",
    "from tensorflow.keras.preprocessing.sequence import pad_sequences\n",
    "from tensorflow.keras.layers import Embedding, Dense, GRU, LSTM , Bidirectional\n",
    "from tensorflow.keras.models import Sequential\n",
    "from tensorflow.keras.models import load_model\n",
    "from tensorflow.keras.callbacks import EarlyStopping, ModelCheckpoint\n",
    "import urllib.request\n",
    "from collections import Counter\n",
    "def pickleIO(obj, src, op=\"r\"):\n",
    "    if op==\"w\":\n",
    "        with open(src, op + \"b\") as f:\n",
    "            pickle.dump(obj, f)\n",
    "    elif op==\"r\":\n",
    "        with open(src, op + \"b\") as f:\n",
    "            tmp = pickle.load(f)\n",
    "        return tmp\n",
    "    else:\n",
    "        print(\"unknown operation\")\n",
    "        return obj\n",
    "    \n",
    "df= pd.DataFrame()\n",
    "df_all = pickleIO(df, src='./data/df_full.pkl',op='r')\n",
    "df_train = pickleIO(df, src='./data/df_train.pkl',op='r')\n",
    "df_valid = pickleIO(df, src='./data/df_valid.pkl',op='r')\n",
    "\n",
    "df_train.document=  df_train.document.str.replace('[^가-힣]' , ' ')\n",
    "df_valid.document=  df_valid.document.str.replace('[^가-힣]' , ' ')\n",
    "\n",
    "df_train.document = df_train.document.str.replace('^ +', '')\n",
    "df_valid.document = df_valid.document.str.replace('^ +', '')\n",
    "\n",
    "df_train.document = df_train.document.replace('', np.nan)\n",
    "df_valid.document = df_valid.document.replace('', np.nan)\n",
    "df_train  =  df_train.dropna(how='any')\n",
    "df_valid  =  df_valid.dropna(how='any')\n",
    "df_train = df_train.drop_duplicates()\n",
    "df_valid = df_valid.drop_duplicates()\n",
    "df_train.label = df_train.label.apply(lambda x: 1 if x=='pos' else 0 )\n",
    "df_valid.label = df_valid.label.apply(lambda x: 1 if x=='pos' else 0 )\n",
    "print(df_train.shape , df_valid.shape)"
   ]
  },
  {
   "cell_type": "code",
   "execution_count": 6,
   "metadata": {},
   "outputs": [],
   "source": [
    "# mecab = Mecab()\n",
    "\n",
    "\n",
    "# df_train['tokenized'] = df_train['document'].apply(mecab.morphs)\n",
    "# df_train['tokenized'] = df_train['tokenized'].apply(lambda x: [item for item in x if item not in stopwords])\n",
    "# train_data = df_train.copy()"
   ]
  },
  {
   "cell_type": "code",
   "execution_count": 7,
   "metadata": {},
   "outputs": [],
   "source": [
    "# df_valid['tokenized'] = df_valid['document'].apply(mecab.morphs)\n",
    "# df_valid['tokenized'] = df_valid['tokenized'].apply(lambda x: [item for item in x if item not in stopwords])\n",
    "# test_data = df_valid.copy()\n"
   ]
  },
  {
   "cell_type": "code",
   "execution_count": 8,
   "metadata": {},
   "outputs": [],
   "source": [
    "# pickleIO(df_train, src='./data/df_train_fixed.pkl',op='w')\n",
    "# pickleIO(df_valid, src='./data/df_valid_fixed.pkl',op='w')"
   ]
  },
  {
   "cell_type": "code",
   "execution_count": null,
   "metadata": {},
   "outputs": [],
   "source": [
    "# pickleIO(tokenizer, src='./data/tokenizer.pkl', op=\"w\")"
   ]
  },
  {
   "cell_type": "markdown",
   "metadata": {},
   "source": [
    "-----------"
   ]
  },
  {
   "cell_type": "markdown",
   "metadata": {},
   "source": [
    "### 전처리 된 모델 불러오기"
   ]
  },
  {
   "cell_type": "code",
   "execution_count": 9,
   "metadata": {},
   "outputs": [],
   "source": [
    "df_train = pickleIO(df_train, src='./data/df_train_fixed.pkl',op='r')\n",
    "df_valid = pickleIO(df_valid, src='./data/df_valid_fixed.pkl',op='r')"
   ]
  },
  {
   "cell_type": "code",
   "execution_count": 10,
   "metadata": {},
   "outputs": [],
   "source": [
    "train_data = df_train.copy()\n",
    "test_data = df_valid.copy()"
   ]
  },
  {
   "cell_type": "code",
   "execution_count": 11,
   "metadata": {},
   "outputs": [],
   "source": [
    "negative_words = np.hstack(train_data[train_data.label == 0]['tokenized'].values)\n",
    "positive_words = np.hstack(train_data[train_data.label == 1]['tokenized'].values)"
   ]
  },
  {
   "cell_type": "code",
   "execution_count": 12,
   "metadata": {},
   "outputs": [
    {
     "name": "stdout",
     "output_type": "stream",
     "text": [
      "[('는', 92806), ('고', 87272), ('도', 57375), ('다', 54826), ('은', 51924), ('네요', 39948), ('안', 37054), ('는데', 33429), ('지', 31439), ('한', 30762), ('영화', 30282), ('게', 28953), ('없', 28664), ('있', 26601), ('너무', 23199), ('보', 21194), ('했', 20712), ('만', 20528), ('거', 18817), ('같', 18775)]\n",
      "[('고', 84834), ('는', 77122), ('좋', 59318), ('도', 55422), ('다', 46555), ('은', 41553), ('있', 35226), ('게', 34905), ('영화', 31800), ('네요', 31193), ('한', 29747), ('잘', 27080), ('어요', 26012), ('아요', 24397), ('는데', 22547), ('보', 22393), ('지', 19375), ('게임', 18768), ('했', 18189), ('구매', 18045)]\n"
     ]
    }
   ],
   "source": [
    "negative_word_count = Counter(negative_words)\n",
    "print(negative_word_count.most_common(20))\n",
    "\n",
    "positive_word_count = Counter(positive_words)\n",
    "print(positive_word_count.most_common(20))"
   ]
  },
  {
   "cell_type": "code",
   "execution_count": 13,
   "metadata": {},
   "outputs": [
    {
     "name": "stdout",
     "output_type": "stream",
     "text": [
      "긍정 리뷰의 평균 길이 : 13.901422548454608\n",
      "부정 리뷰의 평균 길이 : 15.579414531513944\n"
     ]
    },
    {
     "data": {
      "image/png": "[encoded data removed]",
      "text/plain": [
       "<Figure size 1000x500 with 2 Axes>"
      ]
     },
     "metadata": {},
     "output_type": "display_data"
    }
   ],
   "source": [
    "fig,(ax1,ax2) = plt.subplots(1,2,figsize=(10,5))\n",
    "text_len = train_data[train_data['label']==1]['tokenized'].map(lambda x: len(x))\n",
    "ax1.hist(text_len, color='red')\n",
    "ax1.set_title('Positive Reviews')\n",
    "ax1.set_xlabel('length of samples')\n",
    "ax1.set_ylabel('number of samples')\n",
    "print('긍정 리뷰의 평균 길이 :', np.mean(text_len))\n",
    "\n",
    "text_len = train_data[train_data['label']==0]['tokenized'].map(lambda x: len(x))\n",
    "ax2.hist(text_len, color='blue')\n",
    "ax2.set_title('Negative Reviews')\n",
    "fig.suptitle('Words in texts')\n",
    "ax2.set_xlabel('length of samples')\n",
    "ax2.set_ylabel('number of samples')\n",
    "print('부정 리뷰의 평균 길이 :', np.mean(text_len))\n",
    "plt.show()"
   ]
  },
  {
   "cell_type": "code",
   "execution_count": 14,
   "metadata": {},
   "outputs": [
    {
     "name": "stdout",
     "output_type": "stream",
     "text": [
      "(395536,) (395536,) (99378,) (99378,)\n"
     ]
    }
   ],
   "source": [
    "X_train = train_data['tokenized'].values\n",
    "y_train = train_data['label'].values\n",
    "X_test= test_data['tokenized'].values\n",
    "y_test = test_data['label'].values\n",
    "\n",
    "print(X_train.shape, y_train.shape, X_test.shape, y_test.shape)"
   ]
  },
  {
   "cell_type": "code",
   "execution_count": null,
   "metadata": {},
   "outputs": [],
   "source": []
  },
  {
   "cell_type": "code",
   "execution_count": 15,
   "metadata": {},
   "outputs": [
    {
     "name": "stdout",
     "output_type": "stream",
     "text": [
      "단어 집합(vocabulary)의 크기 : 73062\n",
      "등장 빈도가 1번 이하인 희귀 단어의 수: 27125\n",
      "단어 집합에서 희귀 단어의 비율: 37.126002573157045\n",
      "전체 등장 빈도에서 희귀 단어 등장 빈도 비율: 0.46524280357285897\n",
      "단어 집합의 크기 : 45939\n"
     ]
    }
   ],
   "source": [
    "tokenizer = Tokenizer()\n",
    "tokenizer.fit_on_texts(X_train)\n",
    "\n",
    "threshold = 2\n",
    "total_cnt = len(tokenizer.word_index) # 단어의 수\n",
    "rare_cnt = 0 # 등장 빈도수가 threshold보다 작은 단어의 개수를 카운트\n",
    "total_freq = 0 # 훈련 데이터의 전체 단어 빈도수 총 합\n",
    "rare_freq = 0 # 등장 빈도수가 threshold보다 작은 단어의 등장 빈도수의 총 합\n",
    "\n",
    "# 단어와 빈도수의 쌍(pair)을 key와 value로 받는다.\n",
    "for key, value in tokenizer.word_counts.items():\n",
    "    total_freq = total_freq + value\n",
    "\n",
    "    # 단어의 등장 빈도수가 threshold보다 작으면\n",
    "    if(value < threshold):\n",
    "        rare_cnt = rare_cnt + 1\n",
    "        rare_freq = rare_freq + value\n",
    "\n",
    "print('단어 집합(vocabulary)의 크기 :',total_cnt)\n",
    "print('등장 빈도가 %s번 이하인 희귀 단어의 수: %s'%(threshold - 1, rare_cnt))\n",
    "print(\"단어 집합에서 희귀 단어의 비율:\", (rare_cnt / total_cnt)*100)\n",
    "print(\"전체 등장 빈도에서 희귀 단어 등장 빈도 비율:\", (rare_freq / total_freq)*100)\n",
    "\n",
    "\n",
    "# 전체 단어 개수 중 빈도수 2이하인 단어 개수는 제거.\n",
    "# 0번 패딩 토큰과 1번 OOV 토큰을 고려하여 +2\n",
    "vocab_size = total_cnt - rare_cnt + 2\n",
    "print('단어 집합의 크기 :',vocab_size)"
   ]
  },
  {
   "cell_type": "code",
   "execution_count": 41,
   "metadata": {},
   "outputs": [
    {
     "data": {
      "text/plain": [
       "45939"
      ]
     },
     "execution_count": 41,
     "metadata": {},
     "output_type": "execute_result"
    }
   ],
   "source": [
    "vocab_size"
   ]
  },
  {
   "cell_type": "code",
   "execution_count": 16,
   "metadata": {},
   "outputs": [],
   "source": [
    "tokenizer = Tokenizer(vocab_size, oov_token = 'OOV') \n",
    "tokenizer.fit_on_texts(X_train)\n",
    "X_train = tokenizer.texts_to_sequences(X_train)\n",
    "X_test = tokenizer.texts_to_sequences(X_test)"
   ]
  },
  {
   "cell_type": "code",
   "execution_count": 17,
   "metadata": {},
   "outputs": [
    {
     "name": "stdout",
     "output_type": "stream",
     "text": [
      "리뷰의 최대 길이 : 78\n",
      "리뷰의 평균 길이 : 14.740223393066623\n"
     ]
    },
    {
     "data": {
      "image/png": "[encoded data removed]",
      "text/plain": [
       "<Figure size 640x480 with 1 Axes>"
      ]
     },
     "metadata": {},
     "output_type": "display_data"
    }
   ],
   "source": [
    "print('리뷰의 최대 길이 :',max(len(review) for review in X_train))\n",
    "print('리뷰의 평균 길이 :',sum(map(len, X_train))/len(X_train))\n",
    "plt.hist([len(review) for review in X_train], bins=50)\n",
    "plt.xlabel('length of samples')\n",
    "plt.ylabel('number of samples')\n",
    "plt.show()"
   ]
  },
  {
   "cell_type": "code",
   "execution_count": 18,
   "metadata": {},
   "outputs": [],
   "source": [
    "def below_threshold_len(max_len, nested_list):\n",
    "  count = 0\n",
    "  for sentence in nested_list:\n",
    "    if(len(sentence) <= max_len):\n",
    "        count = count + 1\n",
    "  print('전체 샘플 중 길이가 %s 이하인 샘플의 비율: %s'%(max_len, (count / len(nested_list))*100))"
   ]
  },
  {
   "cell_type": "code",
   "execution_count": 19,
   "metadata": {},
   "outputs": [
    {
     "name": "stdout",
     "output_type": "stream",
     "text": [
      "전체 샘플 중 길이가 80 이하인 샘플의 비율: 100.0\n"
     ]
    }
   ],
   "source": [
    "max_len = 80\n",
    "below_threshold_len(max_len, X_train)"
   ]
  },
  {
   "cell_type": "code",
   "execution_count": 20,
   "metadata": {},
   "outputs": [],
   "source": [
    "X_train = pad_sequences(X_train, maxlen=max_len)\n",
    "X_test = pad_sequences(X_test, maxlen=max_len)"
   ]
  },
  {
   "cell_type": "code",
   "execution_count": 21,
   "metadata": {},
   "outputs": [
    {
     "name": "stdout",
     "output_type": "stream",
     "text": [
      "Requirement already satisfied: tensorflow-addons in c:\\users\\user\\anaconda3\\envs\\jindoll\\lib\\site-packages (0.21.0)\n",
      "Requirement already satisfied: typeguard<3.0.0,>=2.7 in c:\\users\\user\\anaconda3\\envs\\jindoll\\lib\\site-packages (from tensorflow-addons) (2.13.3)\n",
      "Requirement already satisfied: packaging in c:\\users\\user\\anaconda3\\envs\\jindoll\\lib\\site-packages (from tensorflow-addons) (23.1)\n"
     ]
    },
    {
     "name": "stderr",
     "output_type": "stream",
     "text": [
      "WARNING: Ignoring invalid distribution - (c:\\users\\user\\anaconda3\\envs\\jindoll\\lib\\site-packages)\n",
      "WARNING: Ignoring invalid distribution -rotobuf (c:\\users\\user\\anaconda3\\envs\\jindoll\\lib\\site-packages)\n",
      "WARNING: Ignoring invalid distribution - (c:\\users\\user\\anaconda3\\envs\\jindoll\\lib\\site-packages)\n",
      "WARNING: Ignoring invalid distribution -rotobuf (c:\\users\\user\\anaconda3\\envs\\jindoll\\lib\\site-packages)\n"
     ]
    }
   ],
   "source": [
    "!pip install tensorflow-addons"
   ]
  },
  {
   "cell_type": "code",
   "execution_count": 22,
   "metadata": {},
   "outputs": [
    {
     "name": "stderr",
     "output_type": "stream",
     "text": [
      "c:\\Users\\USER\\anaconda3\\envs\\jindoll\\lib\\site-packages\\tensorflow_addons\\utils\\tfa_eol_msg.py:23: UserWarning: \n",
      "\n",
      "TensorFlow Addons (TFA) has ended development and introduction of new features.\n",
      "TFA has entered a minimal maintenance and release mode until a planned end of life in May 2024.\n",
      "Please modify downstream libraries to take dependencies from other repositories in our TensorFlow community (e.g. Keras, Keras-CV, and Keras-NLP). \n",
      "\n",
      "For more information see: https://github.com/tensorflow/addons/issues/2807 \n",
      "\n",
      "  warnings.warn(\n",
      "c:\\Users\\USER\\anaconda3\\envs\\jindoll\\lib\\site-packages\\tensorflow_addons\\utils\\ensure_tf_install.py:53: UserWarning: Tensorflow Addons supports using Python ops for all Tensorflow versions above or equal to 2.11.0 and strictly below 2.14.0 (nightly versions are not supported). \n",
      " The versions of TensorFlow you are currently using is 2.10.0 and is not supported. \n",
      "Some things might work, some things might not.\n",
      "If you were to encounter a bug, do not file an issue.\n",
      "If you want to make sure you're using a tested and supported configuration, either change the TensorFlow version or the TensorFlow Addons's version. \n",
      "You can find the compatibility matrix in TensorFlow Addon's readme:\n",
      "https://github.com/tensorflow/addons\n",
      "  warnings.warn(\n"
     ]
    }
   ],
   "source": [
    "import tensorflow_addons as tfa"
   ]
  },
  {
   "cell_type": "code",
   "execution_count": 23,
   "metadata": {},
   "outputs": [
    {
     "data": {
      "text/plain": [
       "tensorflow_addons.metrics.f_scores.F1Score"
      ]
     },
     "execution_count": 23,
     "metadata": {},
     "output_type": "execute_result"
    }
   ],
   "source": [
    "tfa.metrics.F1Score"
   ]
  },
  {
   "cell_type": "code",
   "execution_count": 24,
   "metadata": {},
   "outputs": [],
   "source": [
    "import tensorflow as tf"
   ]
  },
  {
   "cell_type": "code",
   "execution_count": 25,
   "metadata": {},
   "outputs": [],
   "source": [
    "# from tensorflow.keras.layers import Embedding, Dense, GRU\n",
    "# from tensorflow.keras.models import Sequential\n",
    "# from tensorflow.keras.models import load_model\n",
    "# from tensorflow.keras.callbacks import EarlyStopping, ModelCheckpoint\n",
    "\n",
    "# embedding_dim = 100\n",
    "# hidden_units = 128\n",
    "\n",
    "# # tfa.metrics.F1Score()\n",
    "\n",
    "# model = Sequential()\n",
    "# model.add(Embedding(vocab_size, embedding_dim))\n",
    "# model.add(GRU(hidden_units))\n",
    "# model.add(Dense(1, activation='sigmoid'))\n",
    "\n",
    "\n",
    "# precision = tf.keras.metrics.Precision(name='precision')\n",
    "# recall = tf.keras.metrics.Recall(name='recall')\n",
    "\n",
    "# # es = EarlyStopping(monitor='val_loss', mode='min', verbose=1, patience=4)\n",
    "# mc = ModelCheckpoint('best_model.h5', monitor='val_acc', mode='max', verbose=1, save_best_only=True)\n",
    "\n",
    "# model.compile(optimizer='rmsprop', loss='binary_crossentropy', metrics=['acc',precision,recall, tfa.metrics.F1Score(name='f1_score', num_classes=1)])\n",
    "# history = model.fit(X_train, y_train, epochs=50, callbacks=[ mc], batch_size=64, validation_split=0.2)"
   ]
  },
  {
   "cell_type": "code",
   "execution_count": 26,
   "metadata": {},
   "outputs": [],
   "source": [
    "import os \n",
    "MODEL_DIR = './model_loss'\n",
    "if not os.path.exists(MODEL_DIR): \n",
    "    os.mkdir(MODEL_DIR)\n",
    "modelpath = './model_loss/{epoch:02d}-{val_loss:.5f}.hdf5'\n",
    "checkpointer_loss = ModelCheckpoint(\n",
    "    filepath=modelpath, monitor='val_loss', verbose=1, save_best_only=True\n",
    ")\n",
    "\n",
    "MODEL_DIR = './model_acc'\n",
    "if not os.path.exists(MODEL_DIR): \n",
    "    os.mkdir(MODEL_DIR)\n",
    "modelpath = './model_acc/{epoch:02d}-{val_acc:.5f}.hdf5'\n",
    "checkpointer_acc = ModelCheckpoint(\n",
    "    filepath=modelpath, monitor='val_acc', verbose=1, save_best_only=True\n",
    ")"
   ]
  },
  {
   "cell_type": "code",
   "execution_count": 28,
   "metadata": {},
   "outputs": [
    {
     "name": "stdout",
     "output_type": "stream",
     "text": [
      "Epoch 1/50\n",
      "12360/12361 [============================>.] - ETA: 0s - loss: 0.3474 - f1_score: 0.6668 - acc: 0.8473 - precision: 0.8538 - recall: 0.8382\n",
      "Epoch 1: val_acc improved from -inf to 0.86737, saving model to ./model_acc\\01-0.86737.hdf5\n",
      "\n",
      "Epoch 1: val_loss improved from inf to 0.30974, saving model to ./model_loss\\01-0.30974.hdf5\n",
      "12361/12361 [==============================] - 363s 28ms/step - loss: 0.3474 - f1_score: 0.6668 - acc: 0.8473 - precision: 0.8538 - recall: 0.8382 - val_loss: 0.3097 - val_f1_score: 0.6668 - val_acc: 0.8674 - val_precision: 0.8896 - val_recall: 0.8389\n",
      "Epoch 2/50\n",
      "12360/12361 [============================>.] - ETA: 0s - loss: 0.2753 - f1_score: 0.6668 - acc: 0.8856 - precision: 0.8893 - recall: 0.8809\n",
      "Epoch 2: val_acc improved from 0.86737 to 0.87113, saving model to ./model_acc\\02-0.87113.hdf5\n",
      "\n",
      "Epoch 2: val_loss improved from 0.30974 to 0.30724, saving model to ./model_loss\\02-0.30724.hdf5\n",
      "12361/12361 [==============================] - 217s 18ms/step - loss: 0.2753 - f1_score: 0.6668 - acc: 0.8856 - precision: 0.8893 - recall: 0.8808 - val_loss: 0.3072 - val_f1_score: 0.6668 - val_acc: 0.8711 - val_precision: 0.8715 - val_recall: 0.8707\n",
      "Epoch 3/50\n",
      "12358/12361 [============================>.] - ETA: 0s - loss: 0.2310 - f1_score: 0.6668 - acc: 0.9069 - precision: 0.9094 - recall: 0.9038\n",
      "Epoch 3: val_acc did not improve from 0.87113\n",
      "\n",
      "Epoch 3: val_loss did not improve from 0.30724\n",
      "12361/12361 [==============================] - 597s 48ms/step - loss: 0.2310 - f1_score: 0.6668 - acc: 0.9069 - precision: 0.9094 - recall: 0.9038 - val_loss: 0.3211 - val_f1_score: 0.6668 - val_acc: 0.8655 - val_precision: 0.8721 - val_recall: 0.8569\n",
      "Epoch 4/50\n",
      "12358/12361 [============================>.] - ETA: 0s - loss: 0.1910 - f1_score: 0.6668 - acc: 0.9253 - precision: 0.9259 - recall: 0.9245\n",
      "Epoch 4: val_acc did not improve from 0.87113\n",
      "\n",
      "Epoch 4: val_loss did not improve from 0.30724\n",
      "12361/12361 [==============================] - 266s 22ms/step - loss: 0.1910 - f1_score: 0.6668 - acc: 0.9253 - precision: 0.9259 - recall: 0.9245 - val_loss: 0.3506 - val_f1_score: 0.6668 - val_acc: 0.8647 - val_precision: 0.8620 - val_recall: 0.8686\n",
      "Epoch 5/50\n",
      "12359/12361 [============================>.] - ETA: 0s - loss: 0.1560 - f1_score: 0.6668 - acc: 0.9406 - precision: 0.9402 - recall: 0.9411\n",
      "Epoch 5: val_acc did not improve from 0.87113\n",
      "\n",
      "Epoch 5: val_loss did not improve from 0.30724\n",
      "12361/12361 [==============================] - 247s 20ms/step - loss: 0.1560 - f1_score: 0.6668 - acc: 0.9406 - precision: 0.9402 - recall: 0.9411 - val_loss: 0.3916 - val_f1_score: 0.6668 - val_acc: 0.8594 - val_precision: 0.8540 - val_recall: 0.8671\n",
      "Epoch 6/50\n",
      "12360/12361 [============================>.] - ETA: 0s - loss: 0.1274 - f1_score: 0.6668 - acc: 0.9520 - precision: 0.9510 - recall: 0.9531\n",
      "Epoch 6: val_acc did not improve from 0.87113\n",
      "\n",
      "Epoch 6: val_loss did not improve from 0.30724\n",
      "12361/12361 [==============================] - 482s 39ms/step - loss: 0.1274 - f1_score: 0.6668 - acc: 0.9520 - precision: 0.9510 - recall: 0.9531 - val_loss: 0.4335 - val_f1_score: 0.6668 - val_acc: 0.8542 - val_precision: 0.8516 - val_recall: 0.8580\n",
      "Epoch 6: early stopping\n"
     ]
    }
   ],
   "source": [
    "embedding_dim = 100\n",
    "hidden_units = 128\n",
    "\n",
    "# tfa.metrics.F1Score()\n",
    "\n",
    "model = Sequential()\n",
    "model.add(Embedding(vocab_size, embedding_dim))\n",
    "model.add(Bidirectional(LSTM(hidden_units)))\n",
    "model.add(Dense(1, activation='sigmoid'))\n",
    "\n",
    "\n",
    "precision = tf.keras.metrics.Precision(name='precision')\n",
    "recall = tf.keras.metrics.Recall(name='recall')\n",
    "\n",
    "es = EarlyStopping(monitor='val_loss', mode='min', verbose=1, patience=4)\n",
    "# mc = ModelCheckpoint('best_model.h5', monitor='val_acc', mode='max', verbose=1, save_best_only=True)\n",
    "\n",
    "# model.compile(optimizer='adam', loss='binary_crossentropy', metrics=['acc',precision,recall, tfa.metrics.F1Score(name='f1_score', num_classes=1)])\n",
    "model.compile(optimizer='Adam', loss='binary_crossentropy', metrics=[tfa.metrics.F1Score(name='f1_score', num_classes=1), 'acc', precision, recall,])\n",
    "history2 = model.fit(X_train, y_train, epochs=50, callbacks=[checkpointer_acc,checkpointer_loss, es ], batch_size=32, validation_data=[X_test, y_test])"
   ]
  },
  {
   "cell_type": "code",
   "execution_count": 71,
   "metadata": {},
   "outputs": [
    {
     "name": "stdout",
     "output_type": "stream",
     "text": [
      "3106/3106 [==============================] - 77s 24ms/step - loss: 0.3072 - f1_score: 0.6668 - acc: 0.8711 - precision: 0.8715 - recall: 0.8707\n",
      "\n",
      " 테스트 정확도: 0.8711\n"
     ]
    }
   ],
   "source": [
    "loaded_model = load_model('./model_acc/02-0.87113.hdf5')\n",
    "print(\"\\n 테스트 정확도: %.4f\" % (loaded_model.evaluate(X_test, y_test)[1]))"
   ]
  },
  {
   "cell_type": "code",
   "execution_count": 108,
   "metadata": {},
   "outputs": [
    {
     "data": {
      "image/png": "[encoded data removed]",
      "text/plain": [
       "<Figure size 640x480 with 1 Axes>"
      ]
     },
     "metadata": {},
     "output_type": "display_data"
    }
   ],
   "source": [
    "y_vloss = history2.history['val_loss']\n",
    "y_loss = history2.history['loss']\n",
    "\n",
    "x_len = np.arange(len(y_loss))\n",
    "plt.plot(x_len, y_vloss, marker='.', c='red', label='Validset_loss')\n",
    "plt.plot(x_len, y_loss, marker='.', c='blue', label='Trainset_loss')\n",
    "\n",
    "plt.legend(loc='best')\n",
    "plt.grid()\n",
    "plt.xlabel('epoch')\n",
    "plt.ylabel('loss')\n",
    "plt.show()"
   ]
  },
  {
   "cell_type": "code",
   "execution_count": 76,
   "metadata": {},
   "outputs": [
    {
     "data": {
      "image/png": "[encoded data removed]",
      "text/plain": [
       "<Figure size 500x500 with 1 Axes>"
      ]
     },
     "metadata": {},
     "output_type": "display_data"
    }
   ],
   "source": [
    "acc = history2.history['acc']\n",
    "val_acc = history2.history['val_acc']\n",
    "x_len = np.arange(len(y_loss))\n",
    "plt.figure(figsize=(5,5))\n",
    "plt.plot(x_len, acc,label='Training accuracy')\n",
    "plt.plot(x_len, val_acc,label='Validation accuracy')\n",
    "plt.legend(loc='lower right')\n",
    "plt.title('Training and Validation accuracy')\n",
    "plt.show()"
   ]
  },
  {
   "cell_type": "code",
   "execution_count": null,
   "metadata": {},
   "outputs": [],
   "source": [
    "x_test"
   ]
  },
  {
   "cell_type": "code",
   "execution_count": 57,
   "metadata": {},
   "outputs": [
    {
     "data": {
      "text/plain": [
       "array([1, 1, 1, ..., 1, 1, 0], dtype=int64)"
      ]
     },
     "execution_count": 57,
     "metadata": {},
     "output_type": "execute_result"
    }
   ],
   "source": [
    "y_test"
   ]
  },
  {
   "cell_type": "markdown",
   "metadata": {},
   "source": [
    "---"
   ]
  },
  {
   "cell_type": "code",
   "execution_count": 83,
   "metadata": {},
   "outputs": [],
   "source": [
    "from sklearn.metrics import confusion_matrix\n",
    "from sklearn.metrics import classification_report"
   ]
  },
  {
   "cell_type": "code",
   "execution_count": 84,
   "metadata": {},
   "outputs": [
    {
     "name": "stdout",
     "output_type": "stream",
     "text": [
      "3106/3106 [==============================] - 64s 21ms/step\n"
     ]
    }
   ],
   "source": [
    "result = loaded_model.predict(X_test)\n",
    "result = np.where(result >= 0.5, 1 , 0 )"
   ]
  },
  {
   "cell_type": "code",
   "execution_count": 85,
   "metadata": {},
   "outputs": [
    {
     "name": "stdout",
     "output_type": "stream",
     "text": [
      "훈련용 데이터 오차행렬:\n",
      " [[43296  6381]\n",
      " [ 6426 43275]]\n"
     ]
    }
   ],
   "source": [
    "cm = confusion_matrix(y_test, result)\n",
    "print(\"훈련용 데이터 오차행렬:\\n\", cm)\n"
   ]
  },
  {
   "cell_type": "code",
   "execution_count": 86,
   "metadata": {},
   "outputs": [
    {
     "data": {
      "text/plain": [
       "Text(50.722222222222214, 0.5, 'Truth')"
      ]
     },
     "execution_count": 86,
     "metadata": {},
     "output_type": "execute_result"
    },
    {
     "data": {
      "image/png": "[encoded data removed]",
      "text/plain": [
       "<Figure size 640x480 with 2 Axes>"
      ]
     },
     "metadata": {},
     "output_type": "display_data"
    }
   ],
   "source": [
    "import matplotlib.pyplot  as plt\n",
    "import seaborn as sns\n",
    "sns.heatmap(cm, annot=True, fmt='d')\n",
    "plt.xlabel('predicted')\n",
    "plt.ylabel('Truth')"
   ]
  },
  {
   "cell_type": "code",
   "execution_count": null,
   "metadata": {},
   "outputs": [],
   "source": [
    "cm = confusion_matrix(y_test, result, normalize=\"all\")\n",
    "cm"
   ]
  },
  {
   "cell_type": "code",
   "execution_count": 79,
   "metadata": {},
   "outputs": [
    {
     "name": "stdout",
     "output_type": "stream",
     "text": [
      "3106/3106 [==============================] - 64s 21ms/step\n",
      "훈련용 데이터 오차행렬:\n",
      " [[43296  6381]\n",
      " [ 6426 43275]]\n",
      "훈련용 데이터 분류예측 리포트:\n",
      "               precision    recall  f1-score   support\n",
      "\n",
      "           0       0.87      0.87      0.87     49677\n",
      "           1       0.87      0.87      0.87     49701\n",
      "\n",
      "    accuracy                           0.87     99378\n",
      "   macro avg       0.87      0.87      0.87     99378\n",
      "weighted avg       0.87      0.87      0.87     99378\n",
      "\n"
     ]
    }
   ],
   "source": [
    "print(\"훈련용 데이터 분류예측 리포트:\\n\", classification_report(y_test, result))"
   ]
  },
  {
   "cell_type": "code",
   "execution_count": null,
   "metadata": {},
   "outputs": [],
   "source": []
  },
  {
   "cell_type": "markdown",
   "metadata": {},
   "source": [
    "---"
   ]
  },
  {
   "cell_type": "code",
   "execution_count": 88,
   "metadata": {},
   "outputs": [],
   "source": [
    "def sentiment_predict(new_sentence):\n",
    "  new_sentence = re.sub(r'[^ㄱ-ㅎㅏ-ㅣ가-힣 ]','', new_sentence)\n",
    "  new_sentence = mecab.morphs(new_sentence)\n",
    "  new_sentence = [word for word in new_sentence if not word in stopwords]\n",
    "  encoded = tokenizer.texts_to_sequences([new_sentence])\n",
    "  pad_new = pad_sequences(encoded, maxlen = max_len)\n",
    "\n",
    "  score = float(loaded_model.predict(pad_new))\n",
    "  if(score > 0.5):\n",
    "    print(\"{:.2f}% 확률로 긍정 리뷰입니다.\".format(score * 100))\n",
    "  else:\n",
    "    print(\"{:.2f}% 확률로 부정 리뷰입니다.\".format((1 - score) * 100))"
   ]
  },
  {
   "cell_type": "code",
   "execution_count": 107,
   "metadata": {},
   "outputs": [
    {
     "name": "stdout",
     "output_type": "stream",
     "text": [
      "1/1 [==============================] - 0s 46ms/step\n",
      "96.39% 확률로 긍정 리뷰입니다.\n"
     ]
    }
   ],
   "source": [
    "sentiment_predict('''신림 칼부림 꿀잼''')"
   ]
  },
  {
   "cell_type": "markdown",
   "metadata": {},
   "source": [
    "-------"
   ]
  },
  {
   "cell_type": "markdown",
   "metadata": {},
   "source": [
    "### 뉴스 크롤링"
   ]
  },
  {
   "cell_type": "code",
   "execution_count": null,
   "metadata": {},
   "outputs": [],
   "source": [
    "import requests\n",
    "from bs4 import BeautifulSoup as bs\n",
    "import pandas as pd\n",
    "import os\n",
    "import os\n",
    "import openai\n",
    "def get_news_summary(key_word):\n",
    "\n",
    "    url = f'https://search.naver.com/search.naver?where=news&sm=tab_jum&query={key_word}'\n",
    "\n",
    "\n",
    "\n",
    "    headers = {\"User-Agent\": \"Mozilla/5.0 (Windows NT 6.3; WOW64) AppleWebKit/537.36 (KHTML, like Gecko) Chrome/44.0.2403.157 Safari/537.36\"}\n",
    "    res = requests.get(url, headers= headers)\n",
    "    soup = bs(res.text, 'html.parser')\n",
    "    news_list = soup.find_all('div', attrs={'class':'info_group'})\n",
    "\n",
    "\n",
    "    news_url_list = [] # 네이버 뉴스 url 리스트\n",
    "    new_article_list= [] # 네이버 뉴스 기사 통합 리스트\n",
    "    new_article_head_list =[] \n",
    "    for i in range(9): # 최대 5개 정도만 추출\n",
    "        news_article = news_list[i].find_all(\"a\", attrs={\"class\":\"info\"})\n",
    "        print(i,' 번쨰')\n",
    "        if len(news_article) > 1:\n",
    "            news_nm_url = news_article[1].get('href')\n",
    "            news_url_list.append(news_nm_url)\n",
    "            res = requests.get(news_nm_url, headers=headers)\n",
    "            soup = bs(res.text, 'lxml')\n",
    "            try:\n",
    "                news_article_nm = soup.find_all('div', attrs = {'class': 'newsct_article _article_body'})\n",
    "                news_article_head = soup.find( attrs = {'id': 'title_area'})\n",
    "                news_article_text = news_article_nm[0].get_text()\n",
    "                news_article_head_text = news_article_head.get_text()\n",
    "                new_article_list.append(news_article_text)\n",
    "                new_article_head_list.append(news_article_head_text)\n",
    "            except:\n",
    "                pass\n",
    "    return (new_article_list, new_article_head_list)"
   ]
  },
  {
   "cell_type": "code",
   "execution_count": null,
   "metadata": {},
   "outputs": [],
   "source": [
    "article, head = get_news_summary('신림역 칼부림')\n",
    "print(article)"
   ]
  }
 ],
 "metadata": {
  "kernelspec": {
   "display_name": "tensorflowgpu",
   "language": "python",
   "name": "python3"
  },
  "language_info": {
   "codemirror_mode": {
    "name": "ipython",
    "version": 3
   },
   "file_extension": ".py",
   "mimetype": "text/x-python",
   "name": "python",
   "nbconvert_exporter": "python",
   "pygments_lexer": "ipython3",
   "version": "3.9.16"
  },
  "orig_nbformat": 4
 },
 "nbformat": 4,
 "nbformat_minor": 2
}
