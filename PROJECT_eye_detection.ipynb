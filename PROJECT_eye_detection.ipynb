{
 "cells": [
  {
   "cell_type": "code",
   "execution_count": 5,
   "metadata": {},
   "outputs": [
    {
     "name": "stdout",
     "output_type": "stream",
     "text": [
      "Collecting playsound==1.2.2\n",
      "  Downloading playsound-1.2.2-py2.py3-none-any.whl (6.0 kB)\n",
      "Installing collected packages: playsound\n",
      "Successfully installed playsound-1.2.2\n",
      "Note: you may need to restart the kernel to use updated packages.\n"
     ]
    }
   ],
   "source": [
    "pip install playsound==1.2.2"
   ]
  },
  {
   "cell_type": "code",
   "execution_count": 7,
   "metadata": {},
   "outputs": [
    {
     "name": "stdout",
     "output_type": "stream",
     "text": [
      "Collecting gtts\n",
      "  Downloading gTTS-2.3.2-py3-none-any.whl (28 kB)\n",
      "Requirement already satisfied: requests<3,>=2.27 in c:\\users\\user\\anaconda3\\envs\\jindoll\\lib\\site-packages (from gtts) (2.31.0)\n",
      "Requirement already satisfied: click<8.2,>=7.1 in c:\\users\\user\\anaconda3\\envs\\jindoll\\lib\\site-packages (from gtts) (8.1.3)\n",
      "Requirement already satisfied: colorama in c:\\users\\user\\anaconda3\\envs\\jindoll\\lib\\site-packages (from click<8.2,>=7.1->gtts) (0.4.6)\n",
      "Requirement already satisfied: idna<4,>=2.5 in c:\\users\\user\\anaconda3\\envs\\jindoll\\lib\\site-packages (from requests<3,>=2.27->gtts) (3.4)\n",
      "Requirement already satisfied: urllib3<3,>=1.21.1 in c:\\users\\user\\anaconda3\\envs\\jindoll\\lib\\site-packages (from requests<3,>=2.27->gtts) (1.26.16)\n",
      "Requirement already satisfied: certifi>=2017.4.17 in c:\\users\\user\\anaconda3\\envs\\jindoll\\lib\\site-packages (from requests<3,>=2.27->gtts) (2023.5.7)\n",
      "Requirement already satisfied: charset-normalizer<4,>=2 in c:\\users\\user\\anaconda3\\envs\\jindoll\\lib\\site-packages (from requests<3,>=2.27->gtts) (3.1.0)\n",
      "Installing collected packages: gtts\n",
      "Successfully installed gtts-2.3.2\n",
      "Note: you may need to restart the kernel to use updated packages.\n"
     ]
    }
   ],
   "source": [
    "pip install gtts"
   ]
  },
  {
   "cell_type": "code",
   "execution_count": 4,
   "metadata": {},
   "outputs": [
    {
     "name": "stdout",
     "output_type": "stream",
     "text": [
      "Collecting pyttsx3\n",
      "  Downloading pyttsx3-2.90-py3-none-any.whl (39 kB)\n",
      "Collecting pypiwin32\n",
      "  Downloading pypiwin32-223-py3-none-any.whl (1.7 kB)\n",
      "Requirement already satisfied: pywin32 in c:\\users\\user\\anaconda3\\envs\\jindoll\\lib\\site-packages (from pyttsx3) (305.1)\n",
      "Collecting comtypes\n",
      "  Downloading comtypes-1.2.0-py2.py3-none-any.whl (184 kB)\n",
      "     -------------------------------------- 184.3/184.3 kB 3.8 MB/s eta 0:00:00\n",
      "Installing collected packages: comtypes, pypiwin32, pyttsx3\n",
      "Successfully installed comtypes-1.2.0 pypiwin32-223 pyttsx3-2.90\n",
      "Note: you may need to restart the kernel to use updated packages.\n"
     ]
    }
   ],
   "source": [
    "pip install pyttsx3"
   ]
  },
  {
   "cell_type": "markdown",
   "metadata": {},
   "source": [
    "------"
   ]
  },
  {
   "cell_type": "code",
   "execution_count": 5,
   "metadata": {},
   "outputs": [],
   "source": [
    "import threading\n",
    "import cv2\n",
    "import dlib\n",
    "import pyttsx3\n",
    "\n",
    "# 사운드로 변환\n",
    "def speak():\n",
    "    engine = pyttsx3.init()\n",
    "    engine.say('좋조졸음 쉼터로 가세요 ')\n",
    "    engine.runAndWait()\n",
    "\n",
    "def main():\n",
    "    face_detector = dlib.get_frontal_face_detector()\n",
    "    eye_detector = dlib.shape_predictor('C:/face_detection/shape_predictor_68_face_landmarks.dat')\n",
    "    # 눈 감은 상태 확인을 위한 변수 초기화\n",
    "    # thread = threading.Thread(target=speak)\n",
    "    webcam = cv2.VideoCapture(0)\n",
    "    i = 0 \n",
    "    while webcam.isOpened():\n",
    "        status, frame = webcam.read()\n",
    "        if not status:\n",
    "            print('Could not read frame')\n",
    "            break\n",
    "\n",
    "        # 이미지를 그레이스케일로 변환\n",
    "        gray = cv2.cvtColor(frame, cv2.COLOR_BGR2GRAY)\n",
    "\n",
    "        # 얼굴 감지\n",
    "        faces = face_detector(gray)\n",
    "\n",
    "        # 얼굴 영역에서 눈 찾기\n",
    "        text = None  # 얼굴에 대한 텍스트 초기화\n",
    "\n",
    "        for face in faces:\n",
    "            landmarks = eye_detector(gray, face)\n",
    "            # 얼굴의 위치 추출\n",
    "            (x, y, w, h) = (face.left(), face.top(), face.width(), face.height())\n",
    "\n",
    "            # 눈 감음 여부 확인\n",
    "            left_eye = landmarks.part(36).y - landmarks.part(37).y\n",
    "            # right_eye = landmarks.part(45).y - landmarks.part(46).y\n",
    "          \n",
    "            if left_eye < 3:  # 눈을 감은 상태로 판단\n",
    "                text = True\n",
    "            else:\n",
    "                text = False\n",
    "\n",
    "            # 얼굴에 대한 텍스트 출력\n",
    "            if text is True:\n",
    "                cv2.putText(frame, 'sleep', (x, y - 10), cv2.FONT_HERSHEY_SIMPLEX, 1, (0, 255, 0), 2)\n",
    "                i += 2\n",
    "                if i >= 75:\n",
    "                    thread = threading.Thread(target=speak)  # Create a new thread for each execution\n",
    "                    thread.start()\n",
    "                    i = 0\n",
    "            elif text is False:\n",
    "                cv2.putText(frame, 'awake', (x, y - 10), cv2.FONT_HERSHEY_SIMPLEX, 1, (0, 255, 0), 2)\n",
    "                if i >= 0:\n",
    "                    i -= 1\n",
    "            else:\n",
    "                if i >= 0:\n",
    "                    i -= 2\n",
    "\n",
    "        # 화면에 출력\n",
    "        cv2.imshow('Drowsiness Detection', frame)\n",
    "        if cv2.waitKey(1) & 0xFF == ord('q'):\n",
    "            break\n",
    "\n",
    "    # 웹캠과 창 닫기\n",
    "    webcam.release()\n",
    "    cv2.destroyAllWindows()\n",
    "\n",
    "if __name__ == \"__main__\":\n",
    "    main()"
   ]
  }
 ],
 "metadata": {
  "kernelspec": {
   "display_name": "jindoll",
   "language": "python",
   "name": "python3"
  },
  "language_info": {
   "codemirror_mode": {
    "name": "ipython",
    "version": 3
   },
   "file_extension": ".py",
   "mimetype": "text/x-python",
   "name": "python",
   "nbconvert_exporter": "python",
   "pygments_lexer": "ipython3",
   "version": "3.9.16"
  },
  "orig_nbformat": 4
 },
 "nbformat": 4,
 "nbformat_minor": 2
}
